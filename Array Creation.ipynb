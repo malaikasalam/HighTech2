{
 "cells": [
  {
   "cell_type": "code",
   "execution_count": 2,
   "id": "64dd7fbe-a863-4c70-bdd1-8df64b34c3cc",
   "metadata": {},
   "outputs": [
    {
     "name": "stdout",
     "output_type": "stream",
     "text": [
      "2.1.3\n"
     ]
    }
   ],
   "source": [
    "import numpy\n",
    "print(numpy.__version__)\n"
   ]
  },
  {
   "cell_type": "code",
   "execution_count": 5,
   "id": "c659c4e3-3786-47c1-b0f9-78de537f6bc2",
   "metadata": {},
   "outputs": [],
   "source": [
    "import numpy as np"
   ]
  },
  {
   "cell_type": "code",
   "execution_count": 6,
   "id": "6f9d41c9-a6fb-43d5-9e9c-d0700d46b4eb",
   "metadata": {},
   "outputs": [
    {
     "name": "stdout",
     "output_type": "stream",
     "text": [
      "1D array: [1 2 3]\n"
     ]
    }
   ],
   "source": [
    "arr1=np.array([1,2,3])\n",
    "print(\"1D array:\",arr1)"
   ]
  },
  {
   "cell_type": "code",
   "execution_count": 10,
   "id": "ecc5ca3b-8c6f-46ad-92a5-88e3c5fc2dcb",
   "metadata": {},
   "outputs": [
    {
     "name": "stdout",
     "output_type": "stream",
     "text": [
      "2D array:\n",
      " [[1 2 3]\n",
      " [4 5 6]]\n"
     ]
    }
   ],
   "source": [
    "arr2 = np.array([[1,2,3],\n",
    "                [4,5,6]])\n",
    "print(\"2D array:\\n\",arr2)"
   ]
  },
  {
   "cell_type": "code",
   "execution_count": 12,
   "id": "25037c63-69f9-4102-b627-22f01ece09ef",
   "metadata": {},
   "outputs": [
    {
     "name": "stdout",
     "output_type": "stream",
     "text": [
      "3D array:\n",
      " [[[ 1  2  3]\n",
      "  [ 4  5  6]]\n",
      "\n",
      " [[ 7  8  9]\n",
      "  [10 11 12]]]\n"
     ]
    }
   ],
   "source": [
    "arr3 =np.array([\n",
    "    [[1,2,3],[4,5,6]],\n",
    "             [[7,8,9],[10,11,12]]\n",
    "               ])\n",
    "print(\"3D array:\\n\" , arr3)"
   ]
  },
  {
   "cell_type": "code",
   "execution_count": 16,
   "id": "ffb58283-46c4-4fcc-8ad6-7d5c5c6160f7",
   "metadata": {},
   "outputs": [
    {
     "name": "stdout",
     "output_type": "stream",
     "text": [
      "shape array 1: (3,)\n"
     ]
    }
   ],
   "source": [
    "print(\"shape array 1:\", arr1.shape) #shape of 1D array"
   ]
  },
  {
   "cell_type": "code",
   "execution_count": 18,
   "id": "29af9c30-f68c-4081-a922-bb700b1f8ef4",
   "metadata": {},
   "outputs": [
    {
     "name": "stdout",
     "output_type": "stream",
     "text": [
      "shape array 2: (2, 3)\n"
     ]
    }
   ],
   "source": [
    "print(\"shape array 2:\",arr2.shape) #shape of 2D array"
   ]
  },
  {
   "cell_type": "code",
   "execution_count": 19,
   "id": "8c1598c0-c637-46e4-a6a3-f2834cef5bbb",
   "metadata": {},
   "outputs": [
    {
     "name": "stdout",
     "output_type": "stream",
     "text": [
      "shape array 3: (2, 2, 3)\n"
     ]
    }
   ],
   "source": [
    "print(\"shape array 3:\",arr3.shape) #shape fo 3D array"
   ]
  },
  {
   "cell_type": "code",
   "execution_count": null,
   "id": "b3c0a394-4437-42db-84d5-2e6a785facfd",
   "metadata": {},
   "outputs": [],
   "source": []
  }
 ],
 "metadata": {
  "kernelspec": {
   "display_name": "Python 3 (ipykernel)",
   "language": "python",
   "name": "python3"
  },
  "language_info": {
   "codemirror_mode": {
    "name": "ipython",
    "version": 3
   },
   "file_extension": ".py",
   "mimetype": "text/x-python",
   "name": "python",
   "nbconvert_exporter": "python",
   "pygments_lexer": "ipython3",
   "version": "3.13.5"
  }
 },
 "nbformat": 4,
 "nbformat_minor": 5
}
