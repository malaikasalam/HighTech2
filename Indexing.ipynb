{
 "cells": [
  {
   "cell_type": "raw",
   "id": "5b25d2d1-c2d7-4551-9190-3eeeecaa0c1c",
   "metadata": {},
   "source": [
    "# Indexing"
   ]
  },
  {
   "cell_type": "code",
   "execution_count": 4,
   "id": "6d5c7612-025b-4584-b531-4630010fe401",
   "metadata": {},
   "outputs": [],
   "source": [
    "import numpy as np"
   ]
  },
  {
   "cell_type": "code",
   "execution_count": 6,
   "id": "bbe4ca62-3cec-409e-b209-72dbb7159e01",
   "metadata": {},
   "outputs": [
    {
     "name": "stdout",
     "output_type": "stream",
     "text": [
      "12\n",
      "99\n"
     ]
    }
   ],
   "source": [
    "arr1=np.array([12,45,67,89,99])\n",
    "print(arr1[0]) # first element\n",
    "print(arr1[-1]) # second element"
   ]
  },
  {
   "cell_type": "code",
   "execution_count": 7,
   "id": "bb84d878-2cce-4bb7-93f9-c5bd05299d6f",
   "metadata": {},
   "outputs": [
    {
     "name": "stdout",
     "output_type": "stream",
     "text": [
      "45\n",
      "4\n"
     ]
    }
   ],
   "source": [
    "arr2=np.array([[1,2,4],\n",
    "              [23,45,67]])\n",
    "print(arr2[1,1]) #2nd row and 2nd column\n",
    "print(arr2[0,2]) #1st row and 3rd coulmn"
   ]
  },
  {
   "cell_type": "code",
   "execution_count": 17,
   "id": "b74a66b2-eeef-4123-a5f3-7f90db12b1bf",
   "metadata": {},
   "outputs": [
    {
     "name": "stdout",
     "output_type": "stream",
     "text": [
      "1\n",
      "34\n",
      "67\n"
     ]
    }
   ],
   "source": [
    "arr3=np.array(\n",
    "    [\n",
    "        [[1,2,4], [23,45,67]]\n",
    "        ,[[6,2,7],[78,34,12]]\n",
    "    ])\n",
    "print(arr3[0,0,0]) #layer 0, row0, column0\n",
    "print(arr3[1,1,1]) #layer1, row1 ,column 1\n",
    "print(arr3[0,1,2]) #layer0, row 1 ,column 5"
   ]
  },
  {
   "cell_type": "code",
   "execution_count": null,
   "id": "3f12457f-20dc-4809-b435-4c6ca3c88690",
   "metadata": {},
   "outputs": [],
   "source": []
  }
 ],
 "metadata": {
  "kernelspec": {
   "display_name": "Python 3 (ipykernel)",
   "language": "python",
   "name": "python3"
  },
  "language_info": {
   "codemirror_mode": {
    "name": "ipython",
    "version": 3
   },
   "file_extension": ".py",
   "mimetype": "text/x-python",
   "name": "python",
   "nbconvert_exporter": "python",
   "pygments_lexer": "ipython3",
   "version": "3.13.5"
  }
 },
 "nbformat": 4,
 "nbformat_minor": 5
}
