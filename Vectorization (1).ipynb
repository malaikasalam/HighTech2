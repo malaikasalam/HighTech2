{
 "cells": [
  {
   "cell_type": "code",
   "execution_count": 2,
   "id": "c79c0bb8-9ab2-4819-a521-78183d689ff3",
   "metadata": {},
   "outputs": [],
   "source": [
    "import numpy as np"
   ]
  },
  {
   "cell_type": "code",
   "execution_count": 3,
   "id": "d0a2007b-21d8-4a77-b207-eb5e1ae1c976",
   "metadata": {},
   "outputs": [
    {
     "name": "stdout",
     "output_type": "stream",
     "text": [
      "Addition:\n",
      " [ 7  9 11 13 15]\n"
     ]
    }
   ],
   "source": [
    "a=np.array([1,2,3,4,5])\n",
    "b=np.array([6,7,8,9,10])\n",
    "print(\"Addition:\\n\",a+b)"
   ]
  },
  {
   "cell_type": "code",
   "execution_count": 5,
   "id": "7e9dd6a2-ccef-435d-b083-8156ee9d34f4",
   "metadata": {},
   "outputs": [
    {
     "name": "stdout",
     "output_type": "stream",
     "text": [
      "subtraction:\n",
      " [5 5 5 5 5]\n"
     ]
    }
   ],
   "source": [
    "print(\"subtraction:\\n\",b-a)"
   ]
  },
  {
   "cell_type": "code",
   "execution_count": 7,
   "id": "245eadab-a124-4796-80e8-0260a502dfdc",
   "metadata": {},
   "outputs": [
    {
     "name": "stdout",
     "output_type": "stream",
     "text": [
      "Multiplication:\n",
      " [ 6 14 24 36 50]\n"
     ]
    }
   ],
   "source": [
    "print(\"Multiplication:\\n\",b*a)"
   ]
  },
  {
   "cell_type": "code",
   "execution_count": 8,
   "id": "56c459d8-aece-49ff-a6d6-40a58ff3db02",
   "metadata": {},
   "outputs": [
    {
     "name": "stdout",
     "output_type": "stream",
     "text": [
      "Division:\n",
      " [0.16666667 0.28571429 0.375      0.44444444 0.5       ]\n"
     ]
    }
   ],
   "source": [
    "print(\"Division:\\n\",a/b)"
   ]
  },
  {
   "cell_type": "code",
   "execution_count": 14,
   "id": "db7bb127-24e9-4408-a62e-f37b57365b12",
   "metadata": {},
   "outputs": [],
   "source": [
    "array=np.array([1,4,9,25,36])"
   ]
  },
  {
   "cell_type": "code",
   "execution_count": 15,
   "id": "38361f68-2436-4c6a-a3ac-888bd0b6ca04",
   "metadata": {},
   "outputs": [
    {
     "name": "stdout",
     "output_type": "stream",
     "text": [
      "square root:\n",
      " [1. 2. 3. 5. 6.]\n"
     ]
    }
   ],
   "source": [
    "print(\"square root:\\n\",np.sqrt(array))"
   ]
  },
  {
   "cell_type": "code",
   "execution_count": 16,
   "id": "82abbdba-d983-4214-8f1c-455e4390c274",
   "metadata": {},
   "outputs": [
    {
     "name": "stdout",
     "output_type": "stream",
     "text": [
      "exponentional:\n",
      " [2.71828183e+00 5.45981500e+01 8.10308393e+03 7.20048993e+10\n",
      " 4.31123155e+15]\n"
     ]
    }
   ],
   "source": [
    "print(\"exponentional:\\n\",np.exp(array))"
   ]
  },
  {
   "cell_type": "code",
   "execution_count": 17,
   "id": "53f7ab66-b597-4a59-8614-65751d1c3853",
   "metadata": {},
   "outputs": [
    {
     "name": "stdout",
     "output_type": "stream",
     "text": [
      "sum:\n",
      " 75\n"
     ]
    }
   ],
   "source": [
    "print(\"sum:\\n\",np.sum(array))"
   ]
  },
  {
   "cell_type": "code",
   "execution_count": 18,
   "id": "9b0e6221-bace-4bc1-89f1-9d73354cf23e",
   "metadata": {},
   "outputs": [
    {
     "name": "stdout",
     "output_type": "stream",
     "text": [
      "logarithm:\n",
      " [0.         1.38629436 2.19722458 3.21887582 3.58351894]\n"
     ]
    }
   ],
   "source": [
    "print(\"logarithm:\\n\",np.log(array))"
   ]
  },
  {
   "cell_type": "code",
   "execution_count": 19,
   "id": "f699f6ca-3f85-4d19-86d2-ad38c27dd682",
   "metadata": {},
   "outputs": [
    {
     "name": "stdout",
     "output_type": "stream",
     "text": [
      "mean:\n",
      " 15.0\n"
     ]
    }
   ],
   "source": [
    "print(\"mean:\\n\",np.mean(array))"
   ]
  },
  {
   "cell_type": "code",
   "execution_count": 29,
   "id": "6da4b745-eaf8-4a73-a000-d32fc98c06b9",
   "metadata": {},
   "outputs": [],
   "source": [
    "array=np.array([1,4,9,25,36])"
   ]
  },
  {
   "cell_type": "code",
   "execution_count": 30,
   "id": "a7a4759e-f902-43be-839f-a5e621b52530",
   "metadata": {},
   "outputs": [
    {
     "name": "stdout",
     "output_type": "stream",
     "text": [
      "a+5:\n",
      " [ 6  9 14 30 41]\n"
     ]
    }
   ],
   "source": [
    "print(\"a+5:\\n\",array+5)"
   ]
  },
  {
   "cell_type": "code",
   "execution_count": 31,
   "id": "1a55aaa1-c6df-4bc6-9434-05129f0dd624",
   "metadata": {},
   "outputs": [
    {
     "name": "stdout",
     "output_type": "stream",
     "text": [
      "Broadcasting:\n",
      " [[ 2  5 10 26 37]\n",
      " [ 3  6 11 27 38]\n",
      " [ 4  7 12 28 39]]\n"
     ]
    }
   ],
   "source": [
    "b=np.array([[1],[2],[3]])\n",
    "print(\"Broadcasting:\\n\",b+array)"
   ]
  },
  {
   "cell_type": "code",
   "execution_count": 32,
   "id": "5f55a35c-3873-401c-9e30-4f7893b1cd15",
   "metadata": {},
   "outputs": [],
   "source": [
    "#NUMPY VS LIST"
   ]
  },
  {
   "cell_type": "code",
   "execution_count": 35,
   "id": "017a9c2d-f954-434b-a3af-f0438a9eec5e",
   "metadata": {},
   "outputs": [],
   "source": [
    "import time"
   ]
  },
  {
   "cell_type": "code",
   "execution_count": 37,
   "id": "83d70b2e-a2a8-4f92-8ed9-734ffb68880b",
   "metadata": {},
   "outputs": [],
   "source": [
    "size=1_000_000\n",
    "# python list\n",
    "list1=list(range(size))\n",
    "list2=list(range(size))\n",
    "\n",
    "start=time.time()\n",
    "result=[list1[i] + list2[i] for i in range(size)]\n",
    "end=time.time()\n",
    "print(\"\")\n",
    "#Numpy array\n",
    "arr1=np.arange(size)\n",
    "arr2=np.arange(size)\n"
   ]
  },
  {
   "cell_type": "code",
   "execution_count": null,
   "id": "d517b23a-0ace-4607-84a7-c666ef13db2c",
   "metadata": {},
   "outputs": [],
   "source": []
  }
 ],
 "metadata": {
  "kernelspec": {
   "display_name": "Python 3 (ipykernel)",
   "language": "python",
   "name": "python3"
  },
  "language_info": {
   "codemirror_mode": {
    "name": "ipython",
    "version": 3
   },
   "file_extension": ".py",
   "mimetype": "text/x-python",
   "name": "python",
   "nbconvert_exporter": "python",
   "pygments_lexer": "ipython3",
   "version": "3.13.5"
  }
 },
 "nbformat": 4,
 "nbformat_minor": 5
}
