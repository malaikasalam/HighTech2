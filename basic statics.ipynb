{
 "cells": [
  {
   "cell_type": "code",
   "execution_count": 1,
   "id": "aec59bd4-6e71-4560-8c92-61ac50bb2f70",
   "metadata": {},
   "outputs": [],
   "source": [
    "#basic statics"
   ]
  },
  {
   "cell_type": "code",
   "execution_count": 4,
   "id": "1b3ecef8-a094-4f7a-9cba-97d0007012ba",
   "metadata": {},
   "outputs": [],
   "source": [
    "import numpy as np"
   ]
  },
  {
   "cell_type": "code",
   "execution_count": 5,
   "id": "99f2a6af-cee3-48c1-9fd5-c38d01dd044c",
   "metadata": {},
   "outputs": [
    {
     "name": "stdout",
     "output_type": "stream",
     "text": [
      "[[1 2 3]\n",
      " [4 5 6]\n",
      " [7 8 9]]\n"
     ]
    }
   ],
   "source": [
    "arr=np.array([[1,2,3],[4,5,6],[7,8,9]])\n",
    "print(arr)"
   ]
  },
  {
   "cell_type": "code",
   "execution_count": 10,
   "id": "70db565c-0939-430c-9ad8-df8be6aac7fb",
   "metadata": {},
   "outputs": [
    {
     "name": "stdout",
     "output_type": "stream",
     "text": [
      "Mean 5.0\n",
      "Mean along column: [4. 5. 6.]\n",
      "Mean along rows: [2. 5. 8.]\n"
     ]
    }
   ],
   "source": [
    "print(\"Mean\",np.mean(arr))\n",
    "print(\"Mean along column:\",np.mean(arr,axis=0))\n",
    "print(\"Mean along rows:\",np.mean(arr,axis=1))"
   ]
  },
  {
   "cell_type": "code",
   "execution_count": 11,
   "id": "b70c8f4f-9f94-419c-b635-fa18f66a3e86",
   "metadata": {},
   "outputs": [
    {
     "name": "stdout",
     "output_type": "stream",
     "text": [
      "Median 5.0\n",
      "Median along column: [4. 5. 6.]\n",
      "Median along rows: [2. 5. 8.]\n"
     ]
    }
   ],
   "source": [
    "print(\"Median\",np.median(arr))\n",
    "print(\"Median along column:\",np.median(arr,axis=0))\n",
    "print(\"Median along rows:\",np.median(arr,axis=1))"
   ]
  },
  {
   "cell_type": "code",
   "execution_count": 12,
   "id": "54cca49f-5f5c-4df2-919e-6d5f9349158c",
   "metadata": {},
   "outputs": [
    {
     "name": "stdout",
     "output_type": "stream",
     "text": [
      "Standard Deviation: 2.581988897471611\n",
      "along column: [2.44948974 2.44948974 2.44948974]\n",
      "along rows: [0.81649658 0.81649658 0.81649658]\n"
     ]
    }
   ],
   "source": [
    "print(\"Standard Deviation:\",np.std(arr))\n",
    "print(\"along column:\",np.std(arr,axis=0))\n",
    "print(\"along rows:\",np.std(arr,axis=1))"
   ]
  },
  {
   "cell_type": "code",
   "execution_count": 13,
   "id": "b18bd129-b80d-4508-a673-e1b59923b8e0",
   "metadata": {},
   "outputs": [
    {
     "name": "stdout",
     "output_type": "stream",
     "text": [
      "Minimum 1\n",
      "Minimum along column: [1 2 3]\n",
      "Minimum along rows: [1 4 7]\n"
     ]
    }
   ],
   "source": [
    "print(\"Minimum\",np.min(arr))\n",
    "print(\"Minimum along column:\",np.min(arr,axis=0))\n",
    "print(\"Minimum along rows:\",np.min(arr,axis=1))"
   ]
  },
  {
   "cell_type": "code",
   "execution_count": 14,
   "id": "2ae88948-e630-48a6-86c0-7ebe587ce89a",
   "metadata": {},
   "outputs": [
    {
     "name": "stdout",
     "output_type": "stream",
     "text": [
      "Maximum 9\n",
      "Maximum along column: [7 8 9]\n",
      "Maximum along rows: [3 6 9]\n"
     ]
    }
   ],
   "source": [
    "print(\"Maximum\",np.max(arr))\n",
    "print(\"Maximum along column:\",np.max(arr,axis=0))\n",
    "print(\"Maximum along rows:\",np.max(arr,axis=1))"
   ]
  },
  {
   "cell_type": "code",
   "execution_count": null,
   "id": "d18fba5d-7f66-4a7f-8502-a276096d967a",
   "metadata": {},
   "outputs": [],
   "source": []
  }
 ],
 "metadata": {
  "kernelspec": {
   "display_name": "Python 3 (ipykernel)",
   "language": "python",
   "name": "python3"
  },
  "language_info": {
   "codemirror_mode": {
    "name": "ipython",
    "version": 3
   },
   "file_extension": ".py",
   "mimetype": "text/x-python",
   "name": "python",
   "nbconvert_exporter": "python",
   "pygments_lexer": "ipython3",
   "version": "3.13.5"
  }
 },
 "nbformat": 4,
 "nbformat_minor": 5
}
