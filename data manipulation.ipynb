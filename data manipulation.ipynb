{
 "cells": [
  {
   "cell_type": "code",
   "execution_count": 1,
   "id": "6f0e0219-1d02-40cd-916f-63d9344229d1",
   "metadata": {},
   "outputs": [],
   "source": [
    "#array manipulation"
   ]
  },
  {
   "cell_type": "code",
   "execution_count": 4,
   "id": "114eb549-20c5-4aee-bacb-f356f177dbd3",
   "metadata": {},
   "outputs": [],
   "source": [
    "import numpy as np"
   ]
  },
  {
   "cell_type": "code",
   "execution_count": 15,
   "id": "e3adbc96-d2b7-4fe8-917c-f19b2be7aff4",
   "metadata": {},
   "outputs": [
    {
     "name": "stdout",
     "output_type": "stream",
     "text": [
      "Array: [ 1  2  3  4  5  6  7  8  9 10 11 12]\n",
      "reshaped:\n",
      " [[ 1  2  3  4]\n",
      " [ 5  6  7  8]\n",
      " [ 9 10 11 12]]\n"
     ]
    }
   ],
   "source": [
    "arr = np.arange(1,13) \n",
    "print(\"Array:\",arr)# arranged array\n",
    "\n",
    "array= arr.reshape(3,4)\n",
    "print(\"reshaped:\\n\",array) #reshaped"
   ]
  },
  {
   "cell_type": "code",
   "execution_count": 16,
   "id": "24e22fe3-6d6d-48ef-a1eb-c4f0ab893471",
   "metadata": {},
   "outputs": [
    {
     "name": "stdout",
     "output_type": "stream",
     "text": [
      "flatten array:\n",
      " [ 1  2  3  4  5  6  7  8  9 10 11 12]\n"
     ]
    }
   ],
   "source": [
    "flat=array.flatten()\n",
    "print(\"flatten array:\\n\",flat) #flatten"
   ]
  },
  {
   "cell_type": "code",
   "execution_count": 21,
   "id": "917763a4-dd36-493b-bdee-54a55f18e54b",
   "metadata": {},
   "outputs": [
    {
     "name": "stdout",
     "output_type": "stream",
     "text": [
      "concatenation along rows:\n",
      " [[ 1  2]\n",
      " [ 4  5]\n",
      " [ 6  7]\n",
      " [ 9 10]]\n"
     ]
    }
   ],
   "source": [
    "a=np.array([[1,2],[4,5]])\n",
    "b=np.array([[6,7],[9,10]])\n",
    "print('concatenation along rows:\\n',np.concatenate ((a,b), axis=0)) #contatenation along rows"
   ]
  },
  {
   "cell_type": "code",
   "execution_count": 23,
   "id": "66f2feb8-c7e9-4f54-9410-90c91ffc84f4",
   "metadata": {},
   "outputs": [
    {
     "name": "stdout",
     "output_type": "stream",
     "text": [
      "concatenation along columns:\n",
      " [[ 1  2  6  7]\n",
      " [ 4  5  9 10]]\n"
     ]
    }
   ],
   "source": [
    "print('concatenation along columns:\\n',np.concatenate ((a,b), axis=1)) #contatenation along columns"
   ]
  },
  {
   "cell_type": "code",
   "execution_count": 46,
   "id": "3d42a5c3-154f-4207-915b-24c51e5c597c",
   "metadata": {},
   "outputs": [
    {
     "name": "stdout",
     "output_type": "stream",
     "text": [
      "Reshaped:\n",
      " [[ 1  2  3]\n",
      " [ 4  5  6]\n",
      " [ 7  8  9]\n",
      " [10 11 12]]\n",
      "Split the reshaped array into 3: [array([[1, 2, 3],\n",
      "       [4, 5, 6]]), array([[ 7,  8,  9],\n",
      "       [10, 11, 12]])]\n"
     ]
    }
   ],
   "source": [
    "a= np.arange(1,13)\n",
    "b= a.reshape(4,3)\n",
    "print(\"Reshaped:\\n\",b) #reshape array\n",
    "print(\"Split the reshaped array into 3:\",np.split(b,2,axis=0))"
   ]
  },
  {
   "cell_type": "code",
   "execution_count": null,
   "id": "0db4d1cc-55fc-4b01-b892-d071246366d7",
   "metadata": {},
   "outputs": [],
   "source": []
  }
 ],
 "metadata": {
  "kernelspec": {
   "display_name": "Python 3 (ipykernel)",
   "language": "python",
   "name": "python3"
  },
  "language_info": {
   "codemirror_mode": {
    "name": "ipython",
    "version": 3
   },
   "file_extension": ".py",
   "mimetype": "text/x-python",
   "name": "python",
   "nbconvert_exporter": "python",
   "pygments_lexer": "ipython3",
   "version": "3.13.5"
  }
 },
 "nbformat": 4,
 "nbformat_minor": 5
}
