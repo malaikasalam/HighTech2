{
 "cells": [
  {
   "cell_type": "code",
   "execution_count": 1,
   "id": "0630d53e-ab33-46e3-b933-fa4f404566d3",
   "metadata": {},
   "outputs": [],
   "source": [
    "#slicing of 1D arrays"
   ]
  },
  {
   "cell_type": "code",
   "execution_count": 6,
   "id": "b9c992c0-7a4f-486b-8876-91f15c042dd7",
   "metadata": {},
   "outputs": [],
   "source": [
    "import numpy as np"
   ]
  },
  {
   "cell_type": "code",
   "execution_count": 7,
   "id": "7b6fa51c-e5c3-4c32-8b8f-21dc65a4e4e1",
   "metadata": {},
   "outputs": [
    {
     "name": "stdout",
     "output_type": "stream",
     "text": [
      "[1 2 3]\n"
     ]
    }
   ],
   "source": [
    "arr1 = np.array([1,2,3,4,5,6,7,8])\n",
    "print(arr1[0:3]) # elements from index 0 to 2"
   ]
  },
  {
   "cell_type": "code",
   "execution_count": 8,
   "id": "3358d73a-1234-4b54-8c01-200a5c9402f9",
   "metadata": {},
   "outputs": [
    {
     "name": "stdout",
     "output_type": "stream",
     "text": [
      "[4 5 6 7 8]\n"
     ]
    }
   ],
   "source": [
    "arr1 = np.array([1,2,3,4,5,6,7,8])\n",
    "print(arr1[3:]) # elements after 3"
   ]
  },
  {
   "cell_type": "code",
   "execution_count": 11,
   "id": "c7b785a8-7818-47ed-ad2d-9776cae92b0e",
   "metadata": {},
   "outputs": [
    {
     "name": "stdout",
     "output_type": "stream",
     "text": [
      "[1 2 3 4 5]\n"
     ]
    }
   ],
   "source": [
    "arr1 = np.array([1,2,3,4,5,6,7,8])\n",
    "print(arr1[:5]) #first 5 elements"
   ]
  },
  {
   "cell_type": "code",
   "execution_count": 12,
   "id": "e373656f-756f-419f-af00-13640669ba08",
   "metadata": {},
   "outputs": [],
   "source": [
    "#slicing of 2D arrays"
   ]
  },
  {
   "cell_type": "code",
   "execution_count": 39,
   "id": "b750d3b8-d002-4264-ab16-24e4dae2d95c",
   "metadata": {},
   "outputs": [
    {
     "name": "stdout",
     "output_type": "stream",
     "text": [
      "[[11 22 33]]\n"
     ]
    }
   ],
   "source": [
    "arr2 = np.array([[11,22,33,44,55],\n",
    "                [66,77,88,99,100]])\n",
    "print(arr2[0:1,0:3]) "
   ]
  },
  {
   "cell_type": "code",
   "execution_count": 45,
   "id": "9df97530-3e7d-477e-81f0-f0851ab1bef4",
   "metadata": {},
   "outputs": [
    {
     "name": "stdout",
     "output_type": "stream",
     "text": [
      "[[13 22 43]\n",
      " [20 51 66]]\n"
     ]
    }
   ],
   "source": [
    "arr3=np.array([\n",
    "  [[13,22,43],[20,51,66]], #layer 0\n",
    "  [[56,72,38],[79,80,54]]  #layer 1\n",
    "              ])\n",
    "\n",
    "print(arr3[0,:,:]) #first layer"
   ]
  },
  {
   "cell_type": "code",
   "execution_count": 46,
   "id": "f3c24479-15a5-4133-a52f-94be171b6af3",
   "metadata": {},
   "outputs": [
    {
     "name": "stdout",
     "output_type": "stream",
     "text": [
      "[[13 22 43]\n",
      " [56 72 38]]\n"
     ]
    }
   ],
   "source": [
    "print(arr3[:,0,:]) #first rows only"
   ]
  },
  {
   "cell_type": "code",
   "execution_count": null,
   "id": "603be691-b1ac-42bd-8865-d176a68ced62",
   "metadata": {},
   "outputs": [],
   "source": []
  }
 ],
 "metadata": {
  "kernelspec": {
   "display_name": "Python 3 (ipykernel)",
   "language": "python",
   "name": "python3"
  },
  "language_info": {
   "codemirror_mode": {
    "name": "ipython",
    "version": 3
   },
   "file_extension": ".py",
   "mimetype": "text/x-python",
   "name": "python",
   "nbconvert_exporter": "python",
   "pygments_lexer": "ipython3",
   "version": "3.13.5"
  }
 },
 "nbformat": 4,
 "nbformat_minor": 5
}
